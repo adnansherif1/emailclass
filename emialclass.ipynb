{
 "cells": [
  {
   "cell_type": "code",
   "execution_count": null,
   "metadata": {},
   "outputs": [],
   "source": [
    "''' Hey guys here is what I believe would be a good start to exploratory analysis.\n",
    "\n",
    "Some details first!\n",
    "\n",
    "As expected quality emial datasets are very hard to come by due to pricavy concerns. According to my understanding \n",
    "most researchers have particularl;y collected the data themselves for analysis {some have paid but rarely}. \n",
    "Collecting emails is a very long and tedious process but THANKFULLY there is one dataset which i beleive could \n",
    "carry us forwardfor the mean time. Due to Enron's screw up at the start of the centruy(2001) they had to expose about \n",
    "500,000 of their emails and this was later bought by MIT and made available to us. It is what I think our only immed\n",
    "iate source. Thanks to a Berkeley gradschool school alumni. We have limited labeled data for about 1000 emails\n",
    "and 255,000 unlabeled emails neatly put into a mysql database.\n",
    "\n",
    "Pros of the dataset\n",
    "A) Since it was an investigation all the emails are from top officials at enron. This means we have a very specific \n",
    "focus group like we wanted. \n",
    "B) THe dataset is pretty large with 1.08gb of data\n",
    "C) It focuses on an industry where our product would be of most use. \n",
    "D) There is a neat dataset with labeled(although only few) emails. \n",
    "\n",
    "Cons\n",
    "A) We cant focus on students as we had initially planned\n",
    "B) The Sql database is pretty old and hard to work with.\n",
    "C) It is really hard to find new datasets with relevant content. \n",
    "\n",
    "Here are the necessay links to the required content\n",
    "\n",
    "'''"
   ]
  },
  {
   "cell_type": "code",
   "execution_count": 491,
   "metadata": {},
   "outputs": [],
   "source": [
    "import mysql.connector\n",
    "import pandas as pd\n",
    "import os, sys, email,re\n",
    "import numpy as np \n",
    "import pandas as pd\n",
    "\n",
    "import matplotlib.pyplot as plt\n",
    "%matplotlib inline\n",
    "import seaborn as sns; sns.set_style('whitegrid')\n",
    "import wordcloud\n",
    "\n",
    "import networkx as nx\n",
    "\n",
    "from nltk.tokenize.regexp import RegexpTokenizer\n",
    "\n",
    "from subprocess import check_output\n",
    "\n",
    "from sklearn.feature_extraction.text import TfidfVectorizer,CountVectorizer\n",
    "from sklearn.cluster import KMeans\n",
    "from sklearn.decomposition import PCA\n",
    "from sklearn.discriminant_analysis import LinearDiscriminantAnalysis as LDA\n",
    "#from sklearn.lda import LDA\n",
    "from sklearn.decomposition import LatentDirichletAllocation\n",
    "\n",
    "import gensim\n",
    "from gensim import corpora\n",
    "import nltk\n",
    "#from nltk.corpus import stopwords \n",
    "from nltk.stem.wordnet import WordNetLemmatizer\n",
    "import string\n",
    "from nltk.stem.porter import PorterStemmer\n",
    "from sklearn import svm\n",
    "from sklearn.utils import shuffle\n",
    "from sklearn import metrics\n",
    "from sklearn.preprocessing import MinMaxScaler\n",
    "from sklearn.model_selection import train_test_split\n",
    "from sklearn.metrics import classification_report, confusion_matrix\n",
    "from sklearn.ensemble import GradientBoostingClassifier\n",
    "from sklearn.ensemble import RandomForestClassifier"
   ]
  },
  {
   "cell_type": "code",
   "execution_count": null,
   "metadata": {},
   "outputs": [],
   "source": []
  },
  {
   "cell_type": "code",
   "execution_count": null,
   "metadata": {},
   "outputs": [],
   "source": []
  },
  {
   "cell_type": "code",
   "execution_count": 32,
   "metadata": {},
   "outputs": [],
   "source": [
    "#abc, abcd, electronics, abcde\n",
    "# below is some startred code on how to install and use mysql in oreder to access the dataset being used for the analysis\n",
    "# this method is ideal as it would create a mysql database and we would query from it.\n",
    "#the current menthod is just based  on string manipulation in python which actually turned out to be much faster.\n",
    "\n",
    "# to create data base install mysql from internet \n",
    "# install an appropriate version compatible with the dataset that was created in 2004 \n",
    "#intall the python connector using pip or brew for the same sql version \n",
    "# make sure the file resides in usr/local/var/mysql rather than /usr/local/mysql (something i struggled with)\n",
    "#make sure to increase the timeout manually as the dataset is pretty large with 1.08 gb data\n",
    "'''conn = mysql.connector.connect(\n",
    "    host=\"localhost\",\n",
    "    user = 'root',\n",
    "    passwd = 'emailmaster',\n",
    "    database = 'abc')\n",
    "cursor = conn.cursor()'''"
   ]
  },
  {
   "cell_type": "code",
   "execution_count": null,
   "metadata": {},
   "outputs": [],
   "source": []
  },
  {
   "cell_type": "code",
   "execution_count": null,
   "metadata": {},
   "outputs": [],
   "source": [
    "'''i = 1\n",
    "k= 1\n",
    "flag = True\n",
    "prev_command=\"\"\n",
    "for command in commands:\n",
    "    i+=1\n",
    "    if i == 2:\n",
    "        print(prev_command, command, command.startswith(\"\\nCREATE\"),command[command.find('CREATE'):])\n",
    "    if i % 100000 == 0:\n",
    "        break\n",
    "   \n",
    "    if (command.startswith(\"\\nINSERT\") or command.startswith(\"\\nCREATE\")):\n",
    "        try:\n",
    "            cursor.execute(prev_command)\n",
    "            print(prev_command)\n",
    "            prev_command = command\n",
    "            k+=1\n",
    "        except mysql.connector.Error as err:\n",
    "            print(command)\n",
    "            print('afnsuhiofnsgvnlaikvsailfgvslvsflvlsfvalvlnkael;akn;knlsfbklnnklsfv')\n",
    "            print(err)\n",
    "    else:\n",
    "        prev_command += command[:-1]\n",
    "       if 'CREATE' in command:\n",
    "\n",
    "            if not flag:\n",
    "                cursor.execute(prev_command)\n",
    "            else :\n",
    "                flag = not flag\n",
    "            prev_command = command[command.find('CREATE'):]\n",
    "            print(prev_command, command, command.startswith(\"--\"),command[command.find('CREATE'):])\n",
    "            k+=1\n",
    "        elif 'INSERT' in command and flag:\n",
    "            if not flag:\n",
    "                cursor.execute(prev_command)\n",
    "            else :\n",
    "                flag = not flag\n",
    "            prev_command = command[command.find('INSERT'):]\n",
    "            k+=1\n",
    "            print(prev_command, command, command.startswith(\"--\"),command[command.find('INSERT'):])'''"
   ]
  },
  {
   "cell_type": "code",
   "execution_count": 279,
   "metadata": {},
   "outputs": [],
   "source": [
    "fh = open('enron copy.sql','r')\n",
    "file = fh.read()\n",
    "fh.close()"
   ]
  },
  {
   "cell_type": "code",
   "execution_count": 280,
   "metadata": {},
   "outputs": [],
   "source": [
    "commands = file.split(');') "
   ]
  },
  {
   "cell_type": "code",
   "execution_count": 281,
   "metadata": {},
   "outputs": [],
   "source": [
    "temp = []\n",
    "init = \"INSERT INTO bodies VALUES (\"\n",
    "i = 1\n",
    "actual = \"\"\n",
    "for command in commands:\n",
    "    if i > 255700:\n",
    "        break\n",
    "    command.lstrip()\n",
    "    if 'INSERT' in command and command.find('INSERT') <=1:\n",
    "        skip = init + str(i) + ','+'1'\n",
    "        text = command[len(skip) + 1:-1]\n",
    "        actual += text\n",
    "        temp.append({'id1': str(i), 'mails' : actual})\n",
    "        actual = \"\"\n",
    "        i+=1\n",
    "    else:\n",
    "        actual += command  "
   ]
  },
  {
   "cell_type": "code",
   "execution_count": null,
   "metadata": {},
   "outputs": [],
   "source": []
  },
  {
   "cell_type": "code",
   "execution_count": 290,
   "metadata": {},
   "outputs": [],
   "source": [
    "fh = open('messages.sql','r')\n",
    "file = fh.read()\n",
    "fh.close()"
   ]
  },
  {
   "cell_type": "code",
   "execution_count": 293,
   "metadata": {},
   "outputs": [],
   "source": [
    "temp2 = []\n",
    "df.append(['2','2'],ignore_index = True)\n",
    "commands = file.split(';')\n",
    "init = \" INSERT INTO messagecats VALUES (\"\n",
    "score = pd.Series([])\n",
    "id2 = pd.Series([])\n",
    "i = 1\n",
    "for command in commands:\n",
    "    i += 1 \n",
    "    if i == 907:\n",
    "        break\n",
    "    command.lstrip()\n",
    "    identity = command[len(init) : command.find(',')]\n",
    "    command = command[command.find(',')+1:]\n",
    "    scr = command[command.find(',')+1]\n",
    "    temp2.append({'id2':str(identity),'score': str(scr)})\n",
    "df = pd.DataFrame(temp2)   \n",
    "df['id2'][0] = str(3111)"
   ]
  },
  {
   "cell_type": "code",
   "execution_count": 312,
   "metadata": {},
   "outputs": [
    {
     "data": {
      "text/plain": [
       "(257510, 4)"
      ]
     },
     "execution_count": 312,
     "metadata": {},
     "output_type": "execute_result"
    }
   ],
   "source": [
    "# not too sure of this filtering method make sure to recheck\n",
    "#for i in range(len(tenmp2)):\n",
    "    #temp2[i]['email'] = temp1[]\n",
    "df2 = pd.DataFrame()\n",
    "df2 = df2.append(temp)\n",
    "df2.shape"
   ]
  },
  {
   "cell_type": "code",
   "execution_count": 313,
   "metadata": {},
   "outputs": [
    {
     "data": {
      "text/html": [
       "<div>\n",
       "<style scoped>\n",
       "    .dataframe tbody tr th:only-of-type {\n",
       "        vertical-align: middle;\n",
       "    }\n",
       "\n",
       "    .dataframe tbody tr th {\n",
       "        vertical-align: top;\n",
       "    }\n",
       "\n",
       "    .dataframe thead th {\n",
       "        text-align: right;\n",
       "    }\n",
       "</style>\n",
       "<table border=\"1\" class=\"dataframe\">\n",
       "  <thead>\n",
       "    <tr style=\"text-align: right;\">\n",
       "      <th></th>\n",
       "      <th>id1</th>\n",
       "      <th>mails</th>\n",
       "    </tr>\n",
       "  </thead>\n",
       "  <tbody>\n",
       "    <tr>\n",
       "      <td>0</td>\n",
       "      <td>1</td>\n",
       "      <td>ystem Notification: At 0115 PST, WACM terminat...</td>\n",
       "    </tr>\n",
       "    <tr>\n",
       "      <td>1</td>\n",
       "      <td>2</td>\n",
       "      <td>Internal path flows are now below limits.  BEE...</td>\n",
       "    </tr>\n",
       "    <tr>\n",
       "      <td>2</td>\n",
       "      <td>3</td>\n",
       "      <td>Path 15 S-N flows are near the limit.  BEEP ha...</td>\n",
       "    </tr>\n",
       "    <tr>\n",
       "      <td>3</td>\n",
       "      <td>4</td>\n",
       "      <td>Market Message: At 2141 PST, WACM requested co...</td>\n",
       "    </tr>\n",
       "    <tr>\n",
       "      <td>4</td>\n",
       "      <td>5</td>\n",
       "      <td>Beginning HE20, the 10 minute and expost prici...</td>\n",
       "    </tr>\n",
       "  </tbody>\n",
       "</table>\n",
       "</div>"
      ],
      "text/plain": [
       "  id1                                              mails\n",
       "0   1  ystem Notification: At 0115 PST, WACM terminat...\n",
       "1   2  Internal path flows are now below limits.  BEE...\n",
       "2   3  Path 15 S-N flows are near the limit.  BEEP ha...\n",
       "3   4  Market Message: At 2141 PST, WACM requested co...\n",
       "4   5  Beginning HE20, the 10 minute and expost prici..."
      ]
     },
     "execution_count": 313,
     "metadata": {},
     "output_type": "execute_result"
    }
   ],
   "source": [
    "del df2['score']\n",
    "del df2['id2']\n",
    "df2.head()"
   ]
  },
  {
   "cell_type": "code",
   "execution_count": 315,
   "metadata": {},
   "outputs": [],
   "source": [
    "del df['mails']"
   ]
  },
  {
   "cell_type": "code",
   "execution_count": 438,
   "metadata": {},
   "outputs": [],
   "source": [
    "a = df.copy()\n",
    "b = df2.copy()"
   ]
  },
  {
   "cell_type": "code",
   "execution_count": 444,
   "metadata": {},
   "outputs": [
    {
     "name": "stderr",
     "output_type": "stream",
     "text": [
      "/anaconda3/lib/python3.7/site-packages/ipykernel_launcher.py:2: SettingWithCopyWarning: \n",
      "A value is trying to be set on a copy of a slice from a DataFrame.\n",
      "Try using .loc[row_indexer,col_indexer] = value instead\n",
      "\n",
      "See the caveats in the documentation: http://pandas.pydata.org/pandas-docs/stable/user_guide/indexing.html#returning-a-view-versus-a-copy\n",
      "  \n"
     ]
    },
    {
     "data": {
      "text/plain": [
       "(904, 3)"
      ]
     },
     "execution_count": 444,
     "metadata": {},
     "output_type": "execute_result"
    }
   ],
   "source": [
    "c = b[b.id1.isin(a['id2'])]\n",
    "c['score'] = a['score'].tolist()\n",
    "c = c[c.score != str(3)]\n",
    "c.shape\n"
   ]
  },
  {
   "cell_type": "code",
   "execution_count": 445,
   "metadata": {},
   "outputs": [],
   "source": [
    "#Next part is all about creating the feature space. There is a pretty cool visuslization from a fellow kaggler \n",
    "# From whom i have significantly taken inspiration from"
   ]
  },
  {
   "cell_type": "code",
   "execution_count": 446,
   "metadata": {},
   "outputs": [],
   "source": [
    "# Next part focuses on cleaning up the emails and extracting valuable text."
   ]
  },
  {
   "cell_type": "code",
   "execution_count": 458,
   "metadata": {},
   "outputs": [],
   "source": [
    "def clean(text):\n",
    "    # removes common language words\n",
    "#stop = set(stopwords.words('english'))\n",
    "    stop = []\n",
    "    #not using below cause i have only included text and not the other feautures as of now( A good avenuw for improvement)\n",
    "    #stop.update((\"to\",\"cc\",\"subject\",\"http\",\"from\",\"sent\",\"aaaaaaaaaaaaaaaaaaaaaaaaaaaaaaaaaaaaaaaaaaaaaaaaaaaaaaaaaaaaaaaaaaaaaaaaaaaa\"))\n",
    "    exclude = set(string.punctuation) \n",
    "# lemma = WordNetLemmatizer()\n",
    "    porter= PorterStemmer()\n",
    "    \n",
    "    text=text.rstrip()\n",
    "    text = re.sub(r'[^a-zA-Z]', ' ', text)\n",
    "    # removing numbers and common words. But they can be potentially leveraged as features in other ways.\n",
    "    stop_free = \" \".join([i for i in text.lower().split() if((i not in stop) and (not i.isdigit()))])\n",
    "    punc_free = ''.join(ch for ch in stop_free if ch not in exclude)\n",
    "    #Lemmatization is great but not necessarily a game changer.\n",
    "#normalized = \" \".join(lemma.lemmatize(word) for word in punc_free.split())\n",
    "    #stem = \" \".join(porter.stem(token) for token in normalized.split())\n",
    "    \n",
    "  #  return normalized\n",
    "    return punc_free"
   ]
  },
  {
   "cell_type": "code",
   "execution_count": 459,
   "metadata": {},
   "outputs": [],
   "source": [
    "# Im taking all of our labelled dataset for both the supervised and unsupervised learning but its only 1000 elements \n",
    "# but it would defenitely help to use the whole 255,000\n",
    " #renaming to the convention of the author \n",
    "sub_df = c.rename(columns = {'mails' : 'content'})\n",
    "# dont need these as our dataset does not contain null elements as it is pretty clean.\n",
    "#analysis_df=emails_df[['From', 'To', 'Date','content']].dropna().copy()\n",
    "#analysis_df = analysis_df.loc[analysis_df['To'].map(len) == 1]\n",
    "#sub_df=analysis_df.sample(1000)"
   ]
  },
  {
   "cell_type": "code",
   "execution_count": 460,
   "metadata": {},
   "outputs": [],
   "source": [
    "# passing to the lceaning function\n",
    "text_clean=[]\n",
    "for text in sub_df['content']:\n",
    "    text_clean.append(clean(text).split())"
   ]
  },
  {
   "cell_type": "code",
   "execution_count": 461,
   "metadata": {},
   "outputs": [],
   "source": [
    "# creating a bag of words off of the cleaned data\n",
    "dictionary = corpora.Dictionary(text_clean)\n",
    "text_term_matrix = [dictionary.doc2bow(text) for text in text_clean]"
   ]
  },
  {
   "cell_type": "code",
   "execution_count": 462,
   "metadata": {},
   "outputs": [],
   "source": [
    "#print(text_term_matrix)"
   ]
  },
  {
   "cell_type": "code",
   "execution_count": 463,
   "metadata": {},
   "outputs": [],
   "source": [
    "\n",
    "Lda = gensim.models.ldamodel.LdaModel\n",
    "ldamodel = Lda(text_term_matrix, num_topics=4, id2word = dictionary, passes=30)"
   ]
  },
  {
   "cell_type": "code",
   "execution_count": 475,
   "metadata": {},
   "outputs": [
    {
     "data": {
      "text/html": [
       "<div>\n",
       "<style scoped>\n",
       "    .dataframe tbody tr th:only-of-type {\n",
       "        vertical-align: middle;\n",
       "    }\n",
       "\n",
       "    .dataframe tbody tr th {\n",
       "        vertical-align: top;\n",
       "    }\n",
       "\n",
       "    .dataframe thead th {\n",
       "        text-align: right;\n",
       "    }\n",
       "</style>\n",
       "<table border=\"1\" class=\"dataframe\">\n",
       "  <thead>\n",
       "    <tr style=\"text-align: right;\">\n",
       "      <th></th>\n",
       "      <th>id1</th>\n",
       "      <th>mails</th>\n",
       "      <th>score</th>\n",
       "      <th>clean_content</th>\n",
       "    </tr>\n",
       "  </thead>\n",
       "  <tbody>\n",
       "    <tr>\n",
       "      <td>3110</td>\n",
       "      <td>3111</td>\n",
       "      <td>To:WILLIAMS, WILLIAM\\nEmail:bwillia5@enron.com...</td>\n",
       "      <td>1</td>\n",
       "      <td>williams william nemail bwillia enron com n ne...</td>\n",
       "    </tr>\n",
       "    <tr>\n",
       "      <td>6177</td>\n",
       "      <td>6178</td>\n",
       "      <td>BY MARK GOLDEN                             ...</td>\n",
       "      <td>2</td>\n",
       "      <td>mark golden n dow jones newswires column n n n...</td>\n",
       "    </tr>\n",
       "    <tr>\n",
       "      <td>7663</td>\n",
       "      <td>7664</td>\n",
       "      <td>FYI - this email will go out to employees toni...</td>\n",
       "      <td>2</td>\n",
       "      <td>fyi email go employees tonight n n n nthe enro...</td>\n",
       "    </tr>\n",
       "    <tr>\n",
       "      <td>7925</td>\n",
       "      <td>7926</td>\n",
       "      <td>\\r\\nJeff\\r\\n=20\\r\\nToday\\'s LA Times editorial...</td>\n",
       "      <td>1</td>\n",
       "      <td>r njeff r n r ntoday la times editorial revive...</td>\n",
       "    </tr>\n",
       "    <tr>\n",
       "      <td>7931</td>\n",
       "      <td>7932</td>\n",
       "      <td>\\nJeff\\n \\nCandidly, this wouldn\\'t have been ...</td>\n",
       "      <td>2</td>\n",
       "      <td>njeff n ncandidly approach posh location close...</td>\n",
       "    </tr>\n",
       "  </tbody>\n",
       "</table>\n",
       "</div>"
      ],
      "text/plain": [
       "       id1                                              mails score  \\\n",
       "3110  3111  To:WILLIAMS, WILLIAM\\nEmail:bwillia5@enron.com...     1   \n",
       "6177  6178     BY MARK GOLDEN                             ...     2   \n",
       "7663  7664  FYI - this email will go out to employees toni...     2   \n",
       "7925  7926  \\r\\nJeff\\r\\n=20\\r\\nToday\\'s LA Times editorial...     1   \n",
       "7931  7932  \\nJeff\\n \\nCandidly, this wouldn\\'t have been ...     2   \n",
       "\n",
       "                                          clean_content  \n",
       "3110  williams william nemail bwillia enron com n ne...  \n",
       "6177  mark golden n dow jones newswires column n n n...  \n",
       "7663  fyi email go employees tonight n n n nthe enro...  \n",
       "7925  r njeff r n r ntoday la times editorial revive...  \n",
       "7931  njeff n ncandidly approach posh location close...  "
      ]
     },
     "execution_count": 475,
     "metadata": {},
     "output_type": "execute_result"
    }
   ],
   "source": [
    "eng_stopwords = set(stopwords.words('english'))\n",
    "def clean_text(text):\n",
    "    #text = BeautifulSoup(text, 'html.parser').get_text()\n",
    "    text.rstrip()\n",
    "    text = re.sub(r'[^a-zA-Z]', ' ', text)\n",
    "    words = text.lower().split()\n",
    "    words = [w for w in words if w not in eng_stopwords]\n",
    "    return ' '.join(words)\n",
    "\n",
    "c[\"clean_content\"]=c.mails.apply(clean_text)\n",
    "c.head()"
   ]
  },
  {
   "cell_type": "code",
   "execution_count": 476,
   "metadata": {},
   "outputs": [
    {
     "data": {
      "text/plain": [
       "(904, 4)"
      ]
     },
     "execution_count": 476,
     "metadata": {},
     "output_type": "execute_result"
    }
   ],
   "source": [
    "wordvector = TfidfVectorizer(analyzer='word', stop_words='english', max_df=0.4, min_df=5)\n",
    "wordvector_fit = wordvector.fit_transform(c.clean_content)\n",
    "feature = wordvector.get_feature_names()\n",
    "c.shape"
   ]
  },
  {
   "cell_type": "code",
   "execution_count": 466,
   "metadata": {},
   "outputs": [],
   "source": [
    "N = 4\n",
    "clf = KMeans(n_clusters=N, \n",
    "            max_iter=50, \n",
    "            init='k-means++', \n",
    "            n_init=1)\n",
    "labels = clf.fit_predict(wordvector_fit)"
   ]
  },
  {
   "cell_type": "code",
   "execution_count": 477,
   "metadata": {},
   "outputs": [],
   "source": [
    "wordvector_fit_2d = wordvector_fit.todense()\n",
    "pca = PCA(n_components=2).fit(wordvector_fit_2d)\n",
    "datapoint = pca.transform(wordvector_fit_2d)"
   ]
  },
  {
   "cell_type": "code",
   "execution_count": 468,
   "metadata": {},
   "outputs": [
    {
     "data": {
      "image/png": "[encoded data removed]",
      "text/plain": [
       "<Figure size 432x288 with 1 Axes>"
      ]
     },
     "metadata": {},
     "output_type": "display_data"
    }
   ],
   "source": [
    "label = [\"#e05f14\", \"#e0dc14\", \"#2fe014\", \"#14d2e0\"]\n",
    "color = [label[i] for i in labels]\n",
    "plt.scatter(datapoint[:, 0], datapoint[:, 1], c=color)\n",
    "\n",
    "centroids = clf.cluster_centers_\n",
    "centroidpoint = pca.transform(centroids)\n",
    "plt.scatter(centroidpoint[:, 0], centroidpoint[:, 1], marker='^', s=150, c='#000000')\n",
    "plt.show()"
   ]
  },
  {
   "cell_type": "code",
   "execution_count": 469,
   "metadata": {},
   "outputs": [
    {
     "data": {
      "image/png": "[encoded data removed]",
      "text/plain": [
       "<Figure size 432x288 with 1 Axes>"
      ]
     },
     "metadata": {},
     "output_type": "display_data"
    }
   ],
   "source": [
    "color = [label[int(i) - 1] for i in c['score']]\n",
    "plt.scatter(datapoint[:, 0], datapoint[:, 1], c=color)\n",
    "\n",
    "centroids = clf.cluster_centers_\n",
    "centroidpoint = pca.transform(centroids)\n",
    "plt.scatter(centroidpoint[:, 0], centroidpoint[:, 1], marker='^', s=150, c='#000000')\n",
    "plt.show()"
   ]
  },
  {
   "cell_type": "code",
   "execution_count": null,
   "metadata": {},
   "outputs": [],
   "source": []
  },
  {
   "cell_type": "code",
   "execution_count": null,
   "metadata": {},
   "outputs": [],
   "source": []
  },
  {
   "cell_type": "code",
   "execution_count": null,
   "metadata": {},
   "outputs": [],
   "source": []
  },
  {
   "cell_type": "code",
   "execution_count": null,
   "metadata": {},
   "outputs": [],
   "source": []
  },
  {
   "cell_type": "code",
   "execution_count": null,
   "metadata": {},
   "outputs": [],
   "source": []
  },
  {
   "cell_type": "code",
   "execution_count": 470,
   "metadata": {},
   "outputs": [],
   "source": [
    "scaler = MinMaxScaler()\n",
    "wordvector_fit_2d2 = scaler.fit_transform(wordvector_fit_2d)"
   ]
  },
  {
   "cell_type": "code",
   "execution_count": 521,
   "metadata": {},
   "outputs": [
    {
     "name": "stderr",
     "output_type": "stream",
     "text": [
      "/anaconda3/lib/python3.7/site-packages/sklearn/svm/base.py:196: FutureWarning: The default value of gamma will change from 'auto' to 'scale' in version 0.22 to account better for unscaled features. Set gamma explicitly to 'auto' or 'scale' to avoid this warning.\n",
      "  \"avoid this warning.\", FutureWarning)\n"
     ]
    },
    {
     "name": "stdout",
     "output_type": "stream",
     "text": [
      "0.6535433070866141\n"
     ]
    }
   ],
   "source": [
    "clf2 = svm.SVC()\n",
    "training_data, test_labels = shuffle(wordvector_fit_2d, c.score, random_state = 100)\n",
    "clf2.fit(training_data[:650],test_labels[:650])\n",
    "training_result = clf2.predict(training_data[650:])\n",
    "error = metrics.accuracy_score(training_result, test_labels[650:], normalize=True, sample_weight=None)\n",
    "print(error)"
   ]
  },
  {
   "cell_type": "code",
   "execution_count": 434,
   "metadata": {},
   "outputs": [
    {
     "name": "stdout",
     "output_type": "stream",
     "text": [
      "0.6292682926829268\n"
     ]
    }
   ],
   "source": [
    "clf3 = GradientBoostingClassifier()\n",
    "training_data, test_labels = shuffle(wordvector_fit_2d2, c.score)\n",
    "clf3.fit(training_data[:700],test_labels[:700])\n",
    "training_result = clf3.predict(training_data[700:])\n",
    "error = metrics.accuracy_score(training_result, test_labels[700:], normalize=True, sample_weight=None)\n",
    "print(error)"
   ]
  },
  {
   "cell_type": "code",
   "execution_count": 506,
   "metadata": {},
   "outputs": [
    {
     "name": "stdout",
     "output_type": "stream",
     "text": [
      "0.5882352941176471\n"
     ]
    }
   ],
   "source": [
    "clf4 = RandomForestClassifier(n_estimators = 20)\n",
    "training_data, test_labels = shuffle(wordvector_fit_2d2, c.score)\n",
    "clf4.fit(training_data[:700],test_labels[:700])\n",
    "training_result = clf4.predict(training_data[700:])\n",
    "error = metrics.accuracy_score(training_result, test_labels[700:], normalize=True, sample_weight=None)\n",
    "print(error)"
   ]
  },
  {
   "cell_type": "code",
   "execution_count": null,
   "metadata": {},
   "outputs": [],
   "source": []
  },
  {
   "cell_type": "code",
   "execution_count": null,
   "metadata": {},
   "outputs": [],
   "source": []
  }
 ],
 "metadata": {
  "kernelspec": {
   "display_name": "Python 3",
   "language": "python",
   "name": "python3"
  },
  "language_info": {
   "codemirror_mode": {
    "name": "ipython",
    "version": 3
   },
   "file_extension": ".py",
   "mimetype": "text/x-python",
   "name": "python",
   "nbconvert_exporter": "python",
   "pygments_lexer": "ipython3",
   "version": "3.7.1"
  }
 },
 "nbformat": 4,
 "nbformat_minor": 2
}
